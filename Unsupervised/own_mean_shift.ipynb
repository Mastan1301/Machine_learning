{
 "cells": [
  {
   "cell_type": "markdown",
   "id": "e7002a36-a701-41d9-9c6b-16acb43ffb00",
   "metadata": {},
   "source": [
    "# Mean-shift algorithm from scratch\n",
    "**Steps:**\n",
    "1. Assign every single feature-set as cluster center.\n",
    "2. Take all of the featuresets within the radius of the cluster center / within the bandwidth.\n",
    "3. Take the mean of such featuresets obtained in step-2. This is the new cluster center.\n",
    "4. Repeat step-3 until all the cluster centers are constant or move negligibly."
   ]
  },
  {
   "cell_type": "code",
   "execution_count": 1,
   "id": "a093165c-37b2-4b74-9a08-3f18db3462c4",
   "metadata": {},
   "outputs": [],
   "source": [
    "import matplotlib.pyplot as plt\n",
    "from matplotlib import style\n",
    "import numpy as np\n",
    "\n",
    "style.use('ggplot')"
   ]
  },
  {
   "cell_type": "code",
   "execution_count": 2,
   "id": "add426b3-c745-47a1-a66b-9f0be9a672f6",
   "metadata": {},
   "outputs": [],
   "source": [
    "# X = np.array([[1, 2],\n",
    "#               [1.5, 1.8],\n",
    "#               [5, 8],\n",
    "#               [8, 8],\n",
    "#               [1, 0.6],\n",
    "#               [9, 11],\n",
    "#               [8, 2],\n",
    "#               [10, 2],\n",
    "#               [9, 3],\n",
    "#              ])\n",
    "\n",
    "# Generate a random dataset\n",
    "from sklearn.datasets import make_blobs\n",
    "\n",
    "X, y = make_blobs(n_samples=50, centers=3, n_features=2)\n",
    "\n",
    "colors = 10 * ['g', 'r', 'c', 'b', 'k']"
   ]
  },
  {
   "cell_type": "code",
   "execution_count": 3,
   "id": "769caf3b-f258-42c1-b106-7aff32ff54dd",
   "metadata": {},
   "outputs": [],
   "source": [
    "class Mean_Shift:\n",
    "    def __init__(self, radius=4):\n",
    "        self.radius = radius\n",
    "        \n",
    "    def fit(self, data):\n",
    "        centroids = {}\n",
    "        for i in range(len(data)):\n",
    "            centroids[i] = data[i]\n",
    "            \n",
    "        while True:\n",
    "            new_centroids = []\n",
    "            for i in centroids:\n",
    "                in_bandwidth = []\n",
    "                centroid = centroids[i]\n",
    "                for featureset in data:\n",
    "                    if np.linalg.norm(featureset - centroid) < self.radius:\n",
    "                       in_bandwidth.append(featureset)\n",
    "                \n",
    "                new_centroid = np.average(in_bandwidth, axis=0)\n",
    "                new_centroids.append(tuple(new_centroid))\n",
    "            \n",
    "            unique_centroids = sorted(list(set(new_centroids)))\n",
    "            prev_centroids = dict(centroids)\n",
    "            centroids = {}\n",
    "            \n",
    "            for i in range(len(unique_centroids)):\n",
    "                centroids[i] = np.array(unique_centroids[i])\n",
    "            \n",
    "            optimized = True\n",
    "            for i in centroids:\n",
    "                if not np.array_equal(centroids[i], prev_centroids[i]):\n",
    "                    optimized = False\n",
    "                \n",
    "                if not optimized:\n",
    "                    break\n",
    "                    \n",
    "            if optimized:\n",
    "                break\n",
    "                \n",
    "        self.centroids = centroids\n",
    "        \n",
    "    def predict(self, data):\n",
    "        pass\n",
    "                        "
   ]
  },
  {
   "cell_type": "code",
   "execution_count": 4,
   "id": "85785772-a401-4a70-9726-78f0464137b3",
   "metadata": {},
   "outputs": [],
   "source": [
    "clf = Mean_Shift()\n",
    "clf.fit(X)"
   ]
  },
  {
   "cell_type": "code",
   "execution_count": 5,
   "id": "057525b1-0313-432f-8bfd-c32774afcbdd",
   "metadata": {},
   "outputs": [
    {
     "data": {
      "image/png": "[encoded data removed]",
      "text/plain": [
       "<Figure size 432x288 with 1 Axes>"
      ]
     },
     "metadata": {
      "needs_background": "light"
     },
     "output_type": "display_data"
    }
   ],
   "source": [
    "# Plotting\n",
    "centroids = clf.centroids\n",
    "\n",
    "plt.scatter(X[:, 0], X[:, 1], s=50)\n",
    "for c in centroids:\n",
    "    plt.scatter(centroids[c][0], centroids[c][1], s=50, marker='x', color='k')\n",
    "    \n",
    "plt.show()"
   ]
  },
  {
   "cell_type": "markdown",
   "id": "8ad063ef-c7d5-4fa6-86f4-52bf2b6dda1e",
   "metadata": {},
   "source": [
    "But if we decide the radius by looking at the dataset, then it is not exactly \"unsupervised\" learning. So, how to automate the process of computing the radius?"
   ]
  },
  {
   "cell_type": "markdown",
   "id": "1561933f-cbe7-4d1f-8d89-8db6dc685190",
   "metadata": {},
   "source": [
    "## Dynamic bandwidth\n",
    "\n",
    "Let $C$ be the centroid of the entire dataset. We pre-define the `radius_norm_step` variable. Then, \n",
    "$$ Radius = \\frac{\\|C\\|}{radius\\_norm\\_step} $$ "
   ]
  },
  {
   "cell_type": "code",
   "execution_count": 6,
   "id": "378821d8-7097-427e-8699-3c924bcb6be4",
   "metadata": {},
   "outputs": [],
   "source": [
    "class Mean_Shift_Dynamic_BW:\n",
    "    def __init__(self, radius=None, radius_norm_step=100):\n",
    "        self.radius = radius\n",
    "        self.radius_norm_step = radius_norm_step\n",
    "        \n",
    "    def fit(self, data):\n",
    "        \n",
    "        if self.radius == None:\n",
    "            all_data_centroid = np.average(data, axis=0)\n",
    "            all_data_norm = np.linalg.norm(all_data_centroid)\n",
    "            self.radius = all_data_norm / self.radius_norm_step\n",
    "            \n",
    "        centroids = {}\n",
    "        for i in range(len(data)):\n",
    "            centroids[i] = data[i]\n",
    "        \n",
    "        weights = [i for i in range(self.radius_norm_step)][::-1]\n",
    "            \n",
    "        while True:\n",
    "            new_centroids = []\n",
    "            \n",
    "            for i in centroids:\n",
    "                in_bandwidth = []\n",
    "                centroid = centroids[i]\n",
    "                \n",
    "                for featureset in data:\n",
    "                    distance = np.linalg.norm(featureset - centroid)\n",
    "                    if distance == 0:\n",
    "                        distance = 1e-10\n",
    "                    \n",
    "                    weight_index = int(distance / self.radius)\n",
    "                    if weight_index > self.radius_norm_step - 1:\n",
    "                        weight_index = self.radius_norm_step - 1\n",
    "                    \n",
    "                    to_add = (weights[weight_index] ** 2) * [featureset]\n",
    "                    in_bandwidth += to_add    \n",
    "                \n",
    "                new_centroid = np.average(in_bandwidth, axis=0)\n",
    "                new_centroids.append(tuple(new_centroid))\n",
    "            \n",
    "            unique_centroids = sorted(list(set(new_centroids)))\n",
    "            to_pop = []\n",
    "            for i in unique_centroids:\n",
    "                for j in unique_centroids:\n",
    "                    if i == j:\n",
    "                        pass\n",
    "                    \n",
    "                    elif np.linalg.norm(np.array(i) - np.array(j)) <= self.radius:\n",
    "                        to_pop.append(j)\n",
    "                        break\n",
    "                        \n",
    "            for i in to_pop:\n",
    "                try:\n",
    "                    unique_centroids.remove(i)\n",
    "                except:\n",
    "                    pass\n",
    "                    \n",
    "            prev_centroids = dict(centroids)\n",
    "            centroids = {}\n",
    "            for i in range(len(unique_centroids)):\n",
    "                centroids[i] = np.array(unique_centroids[i])\n",
    "            \n",
    "            optimized = True\n",
    "            for i in centroids:\n",
    "                if not np.array_equal(centroids[i], prev_centroids[i]):\n",
    "                    optimized = False\n",
    "                \n",
    "                if not optimized:\n",
    "                    break\n",
    "                    \n",
    "            if optimized:\n",
    "                break\n",
    "                \n",
    "        self.centroids = centroids\n",
    "        self.classifications = {}\n",
    "        for i in range(len(self.centroids)):\n",
    "            self.classifications[i] = []\n",
    "            \n",
    "        for featureset in data:\n",
    "            distances = [np.linalg.norm(featureset - self.centroids[centroid]) for centroid in self.centroids]\n",
    "            classification = distances.index(min(distances))\n",
    "            self.classifications[classification].append(featureset)\n",
    "        \n",
    "    def predict(self, data):\n",
    "        distances = [np.linalg.norm(featureset - self.centroids[centroid]) for centroid in self.centroids]\n",
    "        classification = distances.index(min(distances))\n",
    "        return classification\n",
    "                        "
   ]
  },
  {
   "cell_type": "code",
   "execution_count": 7,
   "id": "8a57fd96-db54-4b6a-a80c-22f0996473f2",
   "metadata": {},
   "outputs": [],
   "source": [
    "clf = Mean_Shift_Dynamic_BW()\n",
    "clf.fit(X)"
   ]
  },
  {
   "cell_type": "code",
   "execution_count": 8,
   "id": "39e3e0a1-e950-41be-a5ed-f75eae03f470",
   "metadata": {},
   "outputs": [
    {
     "data": {
      "image/png": "[encoded data removed]",
      "text/plain": [
       "<Figure size 432x288 with 1 Axes>"
      ]
     },
     "metadata": {
      "needs_background": "light"
     },
     "output_type": "display_data"
    }
   ],
   "source": [
    "# Plotting\n",
    "centroids = clf.centroids\n",
    "\n",
    "for classification in clf.classifications:\n",
    "    color = colors[classification]\n",
    "    for featureset in clf.classifications[classification]:\n",
    "        plt.scatter(featureset[0], featureset[1], marker='x', color=color, s=50)\n",
    "\n",
    "# plt.scatter(X[:, 0], X[:, 1], s=50)\n",
    "for c in centroids:\n",
    "    plt.scatter(centroids[c][0], centroids[c][1], s=50, marker='x', color='k')\n",
    "    \n",
    "plt.show()"
   ]
  },
  {
   "cell_type": "code",
   "execution_count": null,
   "id": "c5972e7b-c759-476a-a3bf-8990e25519ec",
   "metadata": {},
   "outputs": [],
   "source": []
  }
 ],
 "metadata": {
  "kernelspec": {
   "display_name": "Python 3 (ipykernel)",
   "language": "python",
   "name": "python3"
  },
  "language_info": {
   "codemirror_mode": {
    "name": "ipython",
    "version": 3
   },
   "file_extension": ".py",
   "mimetype": "text/x-python",
   "name": "python",
   "nbconvert_exporter": "python",
   "pygments_lexer": "ipython3",
   "version": "3.10.1"
  }
 },
 "nbformat": 4,
 "nbformat_minor": 5
}
