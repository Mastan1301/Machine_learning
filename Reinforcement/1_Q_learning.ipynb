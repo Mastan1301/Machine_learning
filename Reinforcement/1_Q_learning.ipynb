{
 "cells": [
  {
   "cell_type": "markdown",
   "id": "455d6e0e-f557-43bc-8d1d-7d8b22eb2530",
   "metadata": {},
   "source": [
    "# Q-learning\n",
    "Q-learning is a model-free form of machine learning, in the sense that the AI \"agent\" does not need to know or have a model of the environment that it will be in. The same algorithm can be used across a variety of environments.\n",
    "\n",
    "Source: https://pythonprogramming.net/q-learning-algorithm-reinforcement-learning-python-tutorial/?completed=/q-learning-reinforcement-learning-python-tutorial/"
   ]
  },
  {
   "cell_type": "code",
   "execution_count": 1,
   "id": "c231da95-dcea-47df-b7ce-a89d1584214b",
   "metadata": {},
   "outputs": [],
   "source": [
    "import gym\n",
    "import numpy as np"
   ]
  },
  {
   "cell_type": "code",
   "execution_count": 2,
   "id": "61888b3b-85bd-48b2-b89d-fe811fd4a724",
   "metadata": {},
   "outputs": [
    {
     "name": "stdout",
     "output_type": "stream",
     "text": [
      "3\n"
     ]
    },
    {
     "name": "stderr",
     "output_type": "stream",
     "text": [
      "C:\\Users\\shaik\\AppData\\Local\\Programs\\Python\\Python310\\lib\\site-packages\\gym\\utils\\passive_env_checker.py:97: UserWarning: \u001b[33mWARN: We recommend you to use a symmetric and normalized Box action space (range=[-1, 1]) https://stable-baselines3.readthedocs.io/en/master/guide/rl_tips.html\u001b[0m\n",
      "  logger.warn(\n"
     ]
    }
   ],
   "source": [
    "env = gym.make(\"MountainCar-v0\")\n",
    "\n",
    "# Print the possible no. of actions.\n",
    "print(env.action_space.n)"
   ]
  },
  {
   "cell_type": "code",
   "execution_count": 3,
   "id": "ce53200c-b38a-4474-807c-7925f2d06628",
   "metadata": {},
   "outputs": [],
   "source": [
    "# Sample move\n",
    "# env.reset()\n",
    "\n",
    "# done = False\n",
    "# while not done:\n",
    "#     action = 2\n",
    "#     env.step(action)\n",
    "#     env.render()"
   ]
  },
  {
   "cell_type": "code",
   "execution_count": 4,
   "id": "29b26f8d-1d38-4358-bc52-44098a14ed85",
   "metadata": {
    "scrolled": true,
    "tags": []
   },
   "outputs": [
    {
     "name": "stdout",
     "output_type": "stream",
     "text": [
      "-1.0 [-0.58402514  0.0014615 ]\n",
      "-1.0 [-0.581113    0.00291222]\n",
      "-1.0 [-0.5767715   0.00434144]\n",
      "-1.0 [-0.571033    0.00573854]\n",
      "-1.0 [-0.56393987  0.0070931 ]\n",
      "-1.0 [-0.555545    0.00839492]\n",
      "-1.0 [-0.54591084  0.00963415]\n",
      "-1.0 [-0.53510946  0.01080136]\n",
      "-1.0 [-0.5232218   0.01188768]\n",
      "-1.0 [-0.51033694  0.01288485]\n",
      "-1.0 [-0.4965515   0.01378541]\n",
      "-1.0 [-0.48196873  0.01458278]\n",
      "-1.0 [-0.46669737  0.01527137]\n",
      "-1.0 [-0.45085067  0.01584668]\n",
      "-1.0 [-0.4345453   0.01630539]\n",
      "-1.0 [-0.4178999  0.0166454]\n",
      "-1.0 [-0.40103403  0.01686588]\n",
      "-1.0 [-0.3840668   0.01696722]\n",
      "-1.0 [-0.36711577  0.01695102]\n",
      "-1.0 [-0.35029575  0.01682003]\n",
      "-1.0 [-0.3337177   0.01657803]\n",
      "-1.0 [-0.317488   0.0162297]\n",
      "-1.0 [-0.3017075   0.01578051]\n",
      "-1.0 [-0.28647098  0.01523654]\n",
      "-1.0 [-0.27186665  0.01460433]\n",
      "-1.0 [-0.25797588  0.01389075]\n",
      "-1.0 [-0.24487306  0.01310282]\n",
      "-1.0 [-0.23262545  0.01224761]\n",
      "-1.0 [-0.22129337  0.01133209]\n",
      "-1.0 [-0.2109303   0.01036307]\n",
      "-1.0 [-0.20158318  0.00934712]\n",
      "-1.0 [-0.19329268  0.00829051]\n",
      "-1.0 [-0.1860935   0.00719918]\n",
      "-1.0 [-0.18001473  0.00607877]\n",
      "-1.0 [-0.17508018  0.00493455]\n",
      "-1.0 [-0.17130864  0.00377154]\n",
      "-1.0 [-0.16871415  0.00259449]\n",
      "-1.0 [-0.16730621  0.00140794]\n",
      "-1.0 [-0.16708992  0.00021628]\n",
      "-1.0 [-0.16806608 -0.00097615]\n",
      "-1.0 [-0.17023113 -0.00216505]\n",
      "-1.0 [-0.1735772  -0.00334607]\n",
      "-1.0 [-0.17809191 -0.00451471]\n",
      "-1.0 [-0.18375821 -0.0056663 ]\n",
      "-1.0 [-0.19055416 -0.00679595]\n",
      "-1.0 [-0.1984526  -0.00789845]\n",
      "-1.0 [-0.20742093 -0.00896832]\n",
      "-1.0 [-0.21742067 -0.00999973]\n",
      "-1.0 [-0.22840717 -0.01098651]\n",
      "-1.0 [-0.24032937 -0.01192221]\n",
      "-1.0 [-0.25312945 -0.01280009]\n",
      "-1.0 [-0.2667427  -0.01361323]\n",
      "-1.0 [-0.2810973  -0.01435459]\n",
      "-1.0 [-0.29611441 -0.01501711]\n",
      "-1.0 [-0.31170827 -0.01559386]\n",
      "-1.0 [-0.32778642 -0.01607815]\n",
      "-1.0 [-0.34425014 -0.01646373]\n",
      "-1.0 [-0.36099502 -0.01674487]\n",
      "-1.0 [-0.37791163 -0.01691661]\n",
      "-1.0 [-0.39488643 -0.0169748 ]\n",
      "-1.0 [-0.41180277 -0.01691634]\n",
      "-1.0 [-0.42854193 -0.01673918]\n",
      "-1.0 [-0.4449844  -0.01644248]\n",
      "-1.0 [-0.46101105 -0.01602664]\n",
      "-1.0 [-0.47650436 -0.01549329]\n",
      "-1.0 [-0.49134967 -0.01484532]\n",
      "-1.0 [-0.5054365  -0.01408682]\n",
      "-1.0 [-0.5186595  -0.01322297]\n",
      "-1.0 [-0.53091943 -0.01226001]\n",
      "-1.0 [-0.54212457 -0.01120511]\n",
      "-1.0 [-0.5521908  -0.01006624]\n",
      "-1.0 [-0.56104285 -0.00885206]\n",
      "-1.0 [-0.56861466 -0.00757182]\n",
      "-1.0 [-0.5748499  -0.00623523]\n",
      "-1.0 [-0.57970226 -0.00485235]\n",
      "-1.0 [-0.58313584 -0.00343356]\n",
      "-1.0 [-0.5851252 -0.0019894]\n",
      "-1.0 [-5.856558e-01 -5.305717e-04]\n",
      "-1.0 [-0.58472365  0.00093217]\n",
      "-1.0 [-0.5823356   0.00238804]\n",
      "-1.0 [-0.5785093   0.00382629]\n",
      "-1.0 [-0.573273    0.00523626]\n",
      "-1.0 [-0.5666656   0.00660744]\n",
      "-1.0 [-0.558736    0.00792954]\n",
      "-1.0 [-0.54954344  0.00919259]\n",
      "-1.0 [-0.5391565   0.01038698]\n",
      "-1.0 [-0.52765286  0.01150362]\n",
      "-1.0 [-0.51511884  0.01253402]\n",
      "-1.0 [-0.5016484   0.01347043]\n",
      "-1.0 [-0.4873425   0.01430592]\n",
      "-1.0 [-0.47230795  0.01503453]\n",
      "-1.0 [-0.4566566   0.01565137]\n",
      "-1.0 [-0.44050393  0.01615267]\n",
      "-1.0 [-0.42396805  0.01653589]\n",
      "-1.0 [-0.4071683   0.01679974]\n",
      "-1.0 [-0.39022413  0.01694416]\n",
      "-1.0 [-0.37325382  0.01697033]\n",
      "-1.0 [-0.35637322  0.01688058]\n",
      "-1.0 [-0.3396949   0.01667834]\n",
      "-1.0 [-0.3233269   0.01636798]\n",
      "-1.0 [-0.3073722   0.01595469]\n",
      "-1.0 [-0.29192784  0.01544435]\n",
      "-1.0 [-0.2770845   0.01484337]\n",
      "-1.0 [-0.262926    0.01415849]\n",
      "-1.0 [-0.24952929  0.01339671]\n",
      "-1.0 [-0.23696421  0.01256508]\n",
      "-1.0 [-0.22529358  0.01167063]\n",
      "-1.0 [-0.21457334  0.01072024]\n",
      "-1.0 [-0.20485277  0.00972057]\n",
      "-1.0 [-0.19617477  0.008678  ]\n",
      "-1.0 [-0.18857618  0.0075986 ]\n",
      "-1.0 [-0.18208808  0.0064881 ]\n",
      "-1.0 [-0.17673615  0.00535192]\n",
      "-1.0 [-0.17254098  0.00419517]\n",
      "-1.0 [-0.1695183   0.00302267]\n",
      "-1.0 [-0.16767925  0.00183905]\n",
      "-1.0 [-0.1670305   0.00064875]\n",
      "-1.0 [-0.1675744 -0.0005439]\n",
      "-1.0 [-0.16930899 -0.00173458]\n",
      "-1.0 [-0.17222796 -0.00291897]\n",
      "-1.0 [-0.17632058 -0.00409263]\n",
      "-1.0 [-0.18157154 -0.00525096]\n",
      "-1.0 [-0.18796068 -0.00638914]\n",
      "-1.0 [-0.1954628  -0.00750211]\n",
      "-1.0 [-0.20404726 -0.00858447]\n",
      "-1.0 [-0.2136778  -0.00963052]\n",
      "-1.0 [-0.224312   -0.01063421]\n",
      "-1.0 [-0.2359012 -0.0115892]\n",
      "-1.0 [-0.24839005 -0.01248884]\n",
      "-1.0 [-0.26171634 -0.01332628]\n",
      "-1.0 [-0.2758108  -0.01409448]\n",
      "-1.0 [-0.2905972 -0.0147864]\n",
      "-1.0 [-0.30599225 -0.01539504]\n",
      "-1.0 [-0.32190588 -0.01591362]\n",
      "-1.0 [-0.33824155 -0.01633568]\n",
      "-1.0 [-0.35489687 -0.01665532]\n",
      "-1.0 [-0.37176412 -0.01686725]\n",
      "-1.0 [-0.38873115 -0.01696704]\n",
      "-1.0 [-0.40568236 -0.01695118]\n",
      "-1.0 [-0.42249957 -0.01681722]\n",
      "-1.0 [-0.43906346 -0.01656389]\n",
      "-1.0 [-0.45525458 -0.01619113]\n",
      "-1.0 [-0.47095472 -0.01570013]\n",
      "-1.0 [-0.48604804 -0.01509332]\n",
      "-1.0 [-0.5004224  -0.01437436]\n",
      "-1.0 [-0.51397043 -0.01354804]\n",
      "-1.0 [-0.52659065 -0.01262024]\n",
      "-1.0 [-0.53818846 -0.0115978 ]\n",
      "-1.0 [-0.5486769  -0.01048842]\n",
      "-1.0 [-0.5579774  -0.00930051]\n",
      "-1.0 [-0.5660205  -0.00804312]\n",
      "-1.0 [-0.57274634 -0.00672582]\n",
      "-1.0 [-0.57810485 -0.00535855]\n",
      "-1.0 [-0.58205646 -0.00395157]\n",
      "-1.0 [-0.58457184 -0.00251538]\n",
      "-1.0 [-0.58563244 -0.00106063]\n",
      "-1.0 [-5.8523053e-01  4.0194287e-04]\n",
      "-1.0 [-0.58336896  0.00186155]\n",
      "-1.0 [-0.58006155  0.00330743]\n",
      "-1.0 [-0.57533264  0.00472888]\n",
      "-1.0 [-0.5692173   0.00611533]\n",
      "-1.0 [-0.56176096  0.0074564 ]\n",
      "-1.0 [-0.5530189   0.00874199]\n",
      "-1.0 [-0.5430566   0.00996235]\n",
      "-1.0 [-0.5319484   0.01110821]\n",
      "-1.0 [-0.51977754  0.01217082]\n",
      "-1.0 [-0.5066354   0.01314216]\n",
      "-1.0 [-0.4926204   0.01401499]\n",
      "-1.0 [-0.4778374   0.01478299]\n",
      "-1.0 [-0.46239656  0.01544086]\n",
      "-1.0 [-0.44641215  0.01598441]\n",
      "-1.0 [-0.43000147  0.01641067]\n",
      "-1.0 [-0.4132836   0.01671788]\n",
      "-1.0 [-0.39637804  0.01690554]\n",
      "-1.0 [-0.37940368  0.01697438]\n",
      "-1.0 [-0.36247733  0.01692633]\n",
      "-1.0 [-0.3457129   0.01676443]\n",
      "-1.0 [-0.3292202   0.01649272]\n",
      "-1.0 [-0.3131041   0.01611611]\n",
      "-1.0 [-0.29746383  0.01564025]\n",
      "-1.0 [-0.28239247  0.01507137]\n",
      "-1.0 [-0.26797637  0.01441611]\n",
      "-1.0 [-0.25429496  0.01368141]\n",
      "-1.0 [-0.24142066  0.01287429]\n",
      "-1.0 [-0.22941884  0.01200182]\n",
      "-1.0 [-0.2183479   0.01107094]\n",
      "-1.0 [-0.20825952  0.01008838]\n",
      "-1.0 [-0.19919887  0.00906065]\n",
      "-1.0 [-0.19120495  0.00799393]\n",
      "-1.0 [-0.18431088  0.00689406]\n",
      "-1.0 [-0.17854428  0.00576659]\n",
      "-1.0 [-0.17392756  0.00461673]\n",
      "-1.0 [-0.17047817  0.0034494 ]\n",
      "-1.0 [-0.16820887  0.00226929]\n",
      "-1.0 [-0.16712797  0.0010809 ]\n",
      "-1.0 [-1.67239368e-01 -1.11393165e-04]\n",
      "-1.0 [-0.16854265 -0.00130329]\n",
      "-1.0 [-0.17103311 -0.00249046]\n",
      "-1.0 [-0.17470165 -0.00366853]\n",
      "-1.0 [-0.17953461 -0.00483296]\n"
     ]
    }
   ],
   "source": [
    "state = env.reset()\n",
    "done = False\n",
    "while not done:\n",
    "    action = 2\n",
    "    new_state, reward, done, _ = env.step(action)\n",
    "    print(reward, new_state)"
   ]
  },
  {
   "cell_type": "markdown",
   "id": "c9eae6f7-2855-420b-964e-613eb174c50a",
   "metadata": {},
   "source": [
    "The variables in the state are $[\\text{x-coordinate}, \\text{velocity}]$\n",
    "\n",
    "## What's a Q-table?\n",
    "There is a \"Q\" value per action possible per state. This creates a table. In order to figure out all of the possible states, we can either query the environment (if it is kind enough to us to tell us)...or we just simply have to engage in the environment for a while to figure it out. \n",
    "\n",
    "In our case, we can query the enviornment to find out the possible ranges for each of these state values:"
   ]
  },
  {
   "cell_type": "code",
   "execution_count": 5,
   "id": "52871ea2-c929-4f73-b7a7-40de64deaaca",
   "metadata": {},
   "outputs": [
    {
     "name": "stdout",
     "output_type": "stream",
     "text": [
      "[0.6  0.07]\n",
      "[-1.2  -0.07]\n"
     ]
    }
   ],
   "source": [
    "print(env.observation_space.high)\n",
    "print(env.observation_space.low)"
   ]
  },
  {
   "cell_type": "markdown",
   "id": "e7456e01-3dc4-4653-bb6d-01835d120352",
   "metadata": {},
   "source": [
    " Can you imagine the size of a Q Table if we were going to have a value for every combination of these ranges out to 8 decimal places? That'd be huge! And, more importantly, it'd be useless. We don't need that much granularity. So, instead, what we want to do is conver these continuous values to discrete values. Basically, we want to bucket/group the ranges into something more manageable.\n",
    " \n",
    " We'll use 20 groups/buckets for each range"
   ]
  },
  {
   "cell_type": "code",
   "execution_count": 6,
   "id": "49f03441-1d07-455d-87d2-753134640918",
   "metadata": {},
   "outputs": [
    {
     "name": "stdout",
     "output_type": "stream",
     "text": [
      "[0.09  0.007]\n"
     ]
    }
   ],
   "source": [
    "DISCRETE_OS_SIZE = [20, 20]\n",
    "discrete_os_win_size = (env.observation_space.high - env.observation_space.low) / DISCRETE_OS_SIZE\n",
    "\n",
    "# how large each bucket is, basically how much to increment the \n",
    "# range by for each bucket\n",
    "print(discrete_os_win_size)"
   ]
  },
  {
   "cell_type": "code",
   "execution_count": 7,
   "id": "640bf97d-c859-41d3-99e6-2a405fd851c3",
   "metadata": {},
   "outputs": [],
   "source": [
    "# 20 x 20 x 3 matrix\n",
    "q_table = np.random.uniform(low=-2, high=0, size=(DISCRETE_OS_SIZE + [env.action_space.n]))"
   ]
  },
  {
   "attachments": {
    "f25171e2-c876-4b12-97ab-c4caf076ac52.png": {
     "image/png": "[encoded data removed]"
    }
   },
   "cell_type": "markdown",
   "id": "7d3c2998-9f5f-4b61-8022-7ef2b88cec7d",
   "metadata": {},
   "source": [
    "We will consult with this table to determine our moves. That final $\\times 3$ is our 3 actions and each of those 3 actions have the \"Q value\" associated with them. When we're being \"greedy\" and trying to \"exploit\" our environment, we will choose to go with the action that has the highest Q value for this state. Sometimes, however, especially initially, we may instead wish to \"explore\" and just choose a random action. These random actions are how our model will learn better moves over time. So how do we learn over time? We need to update these Q values!\n",
    "\n",
    "![image.png](attachment:f25171e2-c876-4b12-97ab-c4caf076ac52.png)\n",
    "\n",
    "The DISCOUNT is a measure of how much we want to care about FUTURE reward rather than immediate reward. Typically, this value will be fairly high, and is between 0 and 1. We want it high because the purpose of Q Learning is indeed to learn a chain of events that ends with a positive outcome, so it's only natural that we put greater importance on long terms gains rather than short term ones."
   ]
  },
  {
   "cell_type": "code",
   "execution_count": 12,
   "id": "0cda34cf-f01a-431a-85dd-15973d61cc48",
   "metadata": {},
   "outputs": [],
   "source": [
    "LEARNING_RATE = 0.1\n",
    "DISCOUNT = 0.95\n",
    "# No. of iterations of the game\n",
    "EPISODES = 4000"
   ]
  },
  {
   "cell_type": "code",
   "execution_count": 9,
   "id": "e5695391-4a92-4f88-a6f0-b45a22421b16",
   "metadata": {},
   "outputs": [],
   "source": [
    "def get_discrete_state(state):\n",
    "    discrete_state = (state - env.observation_space.low) / discrete_os_win_size\n",
    "    return tuple(discrete_state.astype(np.int))"
   ]
  },
  {
   "cell_type": "markdown",
   "id": "6f6f4741-b0a5-490e-9841-aa168ddb9527",
   "metadata": {},
   "source": [
    "As an Agent learns an environment, it moves from \"exploration\" to \"exploitation.\" Right now, our model is greedy and exploiting for max Q values always...but these Q values are worthless right now. We need the agent to explore!"
   ]
  },
  {
   "cell_type": "code",
   "execution_count": 10,
   "id": "a1b02590-54b9-499c-9c56-def7f9e482b9",
   "metadata": {},
   "outputs": [],
   "source": [
    "epsilon = 1\n",
    "START_EPSILON_DECAYING = 1\n",
    "END_EPSILON_DECAYING = EPISODES // 2\n",
    "epsilon_decay_value = epsilon / (END_EPSILON_DECAYING - START_EPSILON_DECAYING)"
   ]
  },
  {
   "cell_type": "code",
   "execution_count": 17,
   "id": "0539ad14-2933-4083-bbea-e7e3acb34de6",
   "metadata": {},
   "outputs": [],
   "source": [
    "# For stats\n",
    "ep_rewards = []\n",
    "aggr_ep_rewards = {'ep' : [], 'avg' : [], 'max' : [], 'min' : []}\n",
    "STATS_EVERY = 100"
   ]
  },
  {
   "cell_type": "markdown",
   "id": "4b667075-0cdc-4718-befd-1ca76bdc88d0",
   "metadata": {},
   "source": [
    "Use a conditional expression with epsilon to choose whether to \"exploit\" or \"explore\"."
   ]
  },
  {
   "cell_type": "code",
   "execution_count": 22,
   "id": "4ce524e0-32b9-4b23-b368-b2cb81a5a84f",
   "metadata": {},
   "outputs": [
    {
     "name": "stderr",
     "output_type": "stream",
     "text": [
      "C:\\Users\\shaik\\AppData\\Local\\Temp\\ipykernel_468\\1367070879.py:3: DeprecationWarning: `np.int` is a deprecated alias for the builtin `int`. To silence this warning, use `int` by itself. Doing this will not modify any behavior and is safe. When replacing `np.int`, you may wish to use e.g. `np.int64` or `np.int32` to specify the precision. If you wish to review your current use, check the release note link for additional information.\n",
      "Deprecated in NumPy 1.20; for more details and guidance: https://numpy.org/devdocs/release/1.20.0-notes.html#deprecations\n",
      "  return tuple(discrete_state.astype(np.int))\n"
     ]
    },
    {
     "name": "stdout",
     "output_type": "stream",
     "text": [
      "0\n",
      "1000\n",
      "2000\n",
      "3000\n"
     ]
    }
   ],
   "source": [
    "SHOW_EVERY = 1000\n",
    "for episode in range(EPISODES):\n",
    "    episode_reward = 0\n",
    "    discrete_state = get_discrete_state(env.reset())\n",
    "    done = False\n",
    "    \n",
    "    if episode % SHOW_EVERY == 0:\n",
    "        print(episode)\n",
    "        \n",
    "    while not done:\n",
    "        if np.random.random() > epsilon:\n",
    "            # Get action from Q table -> exploit\n",
    "            action = np.argmax(q_table[discrete_state])\n",
    "        else:\n",
    "            # Get random action -> explore\n",
    "            action = np.random.randint(0, env.action_space.n)\n",
    "            \n",
    "        new_state, reward, done, _  = env.step(action)\n",
    "        episode_reward += reward\n",
    "        new_discrete_state = get_discrete_state(new_state)\n",
    "        \n",
    "        if episode % SHOW_EVERY == 0:\n",
    "            # env.render()\n",
    "            pass\n",
    "\n",
    "        if not done:\n",
    "            max_future_q = np.max(q_table[new_discrete_state])\n",
    "            current_q = q_table[discrete_state + (action,)]\n",
    "            new_q = (1 - LEARNING_RATE) * current_q + LEARNING_RATE * (reward + DISCOUNT * max_future_q)\n",
    "            q_table[discrete_state + (action,)] = new_q\n",
    "\n",
    "        elif new_state[0] >= env.goal_position:\n",
    "            q_table[discrete_state + (action,)] = 0\n",
    "\n",
    "        discrete_state = new_discrete_state\n",
    "    \n",
    "    if END_EPSILON_DECAYING >= episode >= START_EPSILON_DECAYING:\n",
    "        epsilon -= epsilon_decay_value\n",
    "        \n",
    "    ep_rewards.append(episode_reward)\n",
    "    if episode % STATS_EVERY:\n",
    "        average_reward = sum(ep_rewards[-STATS_EVERY:]) / STATS_EVERY\n",
    "        aggr_ep_rewards['ep'].append(episode)\n",
    "        aggr_ep_rewards['avg'].append(average_reward)\n",
    "        aggr_ep_rewards['max'].append(max(ep_rewards[-STATS_EVERY:]))\n",
    "        aggr_ep_rewards['min'].append(min(ep_rewards[-STATS_EVERY:]))\n",
    "    \n",
    "    if episode % 10 == 0:\n",
    "        np.save(f\"qtables/{episode}-qtable.npy\", q_table)\n",
    "\n",
    "env.close()"
   ]
  },
  {
   "cell_type": "code",
   "execution_count": 21,
   "id": "b87e0275-ad1e-4a5f-8ea0-0aae148ecee8",
   "metadata": {},
   "outputs": [
    {
     "data": {
      "image/png": "[encoded data removed]",
      "text/plain": [
       "<Figure size 432x288 with 1 Axes>"
      ]
     },
     "metadata": {
      "needs_background": "light"
     },
     "output_type": "display_data"
    }
   ],
   "source": [
    "import matplotlib.pyplot as plt\n",
    "\n",
    "plt.plot(aggr_ep_rewards['ep'], aggr_ep_rewards['avg'], label='average rewards')\n",
    "plt.plot(aggr_ep_rewards['ep'], aggr_ep_rewards['max'], label='max rewards')\n",
    "plt.plot(aggr_ep_rewards['ep'], aggr_ep_rewards['min'], label='min reward')\n",
    "plt.legend(loc=4)\n",
    "plt.grid()\n",
    "plt.show()"
   ]
  },
  {
   "cell_type": "code",
   "execution_count": 23,
   "id": "78133fe1-6c75-4aa3-9875-0d73f129930c",
   "metadata": {},
   "outputs": [],
   "source": [
    "from mpl_toolkits.mplot3d import axes3d\n",
    "from matplotlib import style\n",
    "\n",
    "style.use('ggplot')"
   ]
  },
  {
   "cell_type": "code",
   "execution_count": null,
   "id": "f336b8dc-067b-406a-81ad-a623735a58f2",
   "metadata": {},
   "outputs": [],
   "source": [
    "def get_q_color(value, vals):\n",
    "    if value == max(vals):\n",
    "        return \"green\", 1.0\n",
    "    \n",
    "    return \"red\", 0.3"
   ]
  },
  {
   "cell_type": "markdown",
   "id": "2d7ef06f-7489-4a25-b3aa-0c4b2bf8b0bc",
   "metadata": {},
   "source": [
    "## Make a video for the illustration of the Q-table"
   ]
  },
  {
   "cell_type": "code",
   "execution_count": null,
   "id": "0a014ea1-f916-4950-8394-ff29d05562f1",
   "metadata": {
    "scrolled": true,
    "tags": []
   },
   "outputs": [],
   "source": [
    "fig = plt.figure(figsize=(12, 9))\n",
    "\n",
    "for i in range(0, EPISODES // 40, 10):\n",
    "    print(i)\n",
    "    ax1 = fig.add_subplot(311)\n",
    "    ax2 = fig.add_subplot(312)\n",
    "    ax3 = fig.add_subplot(313)\n",
    "    \n",
    "    q_table = np.load(f\"qtables/{i}-qtable.npy\")\n",
    "\n",
    "    for x, x_vals in enumerate(q_table):\n",
    "        for y, y_vals in enumerate(x_vals):\n",
    "            ax1.scatter(x, y, c=get_q_color(y_vals[0], y_vals)[0], marker='o', alpha=get_q_color(y_vals[0], y_vals)[1])\n",
    "            ax2.scatter(x, y, c=get_q_color(y_vals[1], y_vals)[0], marker='o', alpha=get_q_color(y_vals[1], y_vals)[1])\n",
    "            ax3.scatter(x, y, c=get_q_color(y_vals[2], y_vals)[0], marker='o', alpha=get_q_color(y_vals[2], y_vals)[1])\n",
    "\n",
    "            ax1.set_ylabel(\"Action 0\")\n",
    "            ax2.set_ylabel(\"Action 1\")\n",
    "            ax3.set_ylabel(\"Action 2\")\n",
    "    \n",
    "    plt.savefig(f\"qtable_charts/{i}.png\")\n",
    "    plt.clf()"
   ]
  },
  {
   "cell_type": "code",
   "execution_count": null,
   "id": "eb67ea71-5437-4245-829a-cfe2debeae73",
   "metadata": {},
   "outputs": [],
   "source": [
    "import cv2\n",
    "import os\n",
    "\n",
    "def make_video():\n",
    "    fourcc = cv2.VideoWriter_fourcc(*'XVID')\n",
    "    out = cv2.VideoWriter('qlearn.avi', fourcc, 60.0, (1200, 900))\n",
    "    \n",
    "    for i in range(0, EPISODES, 10):\n",
    "        img_path = f\"qtable_charts/{i}.png\"\n",
    "        print(img_path)\n",
    "        frame = cv2.imread(img_path)\n",
    "        out.write(frame)\n",
    "        \n",
    "    out.release()\n",
    "    \n",
    "make_video()"
   ]
  }
 ],
 "metadata": {
  "kernelspec": {
   "display_name": "Python 3 (ipykernel)",
   "language": "python",
   "name": "python3"
  },
  "language_info": {
   "codemirror_mode": {
    "name": "ipython",
    "version": 3
   },
   "file_extension": ".py",
   "mimetype": "text/x-python",
   "name": "python",
   "nbconvert_exporter": "python",
   "pygments_lexer": "ipython3",
   "version": "3.10.1"
  }
 },
 "nbformat": 4,
 "nbformat_minor": 5
}
