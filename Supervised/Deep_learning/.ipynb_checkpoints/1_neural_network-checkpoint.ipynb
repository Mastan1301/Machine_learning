{
 "cells": [
  {
   "cell_type": "markdown",
   "id": "b185538e-64e5-4f2b-bbff-1338cec6b58e",
   "metadata": {},
   "source": [
    "# Neural networks\n",
    "\n",
    "In the primitive neuron, the weighted sum of the input features is taken and is passed through a function (for eg. in Fig.1, the function used is a step function) to decide whether the neuron should fire or not. \n",
    "\n",
    "<figure>\n",
    "    <img src=\"../assets/primitive_neuron.png\" alt=\"Primitive neuron\" style=\"width:100%\">\n",
    "    <figcaption align=\"center\"> Fig.1: Primitive neuron used in the olden days </figcaption>\n",
    "</figure>\n",
    "\n",
    "Output of a neuron, $ y = f(\\overline{W}.\\overline{X}) $\n",
    "\n",
    "* More than one hidder layer -> deep neural network.\n",
    "\n",
    "**Why the neural networks took so long to come to fruition?**\n",
    "Large datasets are required. The optimization problem is not convex and hence is computationally heavy. \n"
   ]
  },
  {
   "cell_type": "code",
   "execution_count": 1,
   "id": "f99baa35-e7cc-4db1-93cc-9a722196d28a",
   "metadata": {},
   "outputs": [],
   "source": [
    "import tensorflow as tf"
   ]
  },
  {
   "cell_type": "markdown",
   "id": "3004ce63-7590-4cbd-b090-56d5c313d079",
   "metadata": {},
   "source": [
    "We use the *cross-entropy* as the cost function. \n",
    "1 Feedforward + 1 backpropagation = 1 epoch"
   ]
  },
  {
   "cell_type": "code",
   "execution_count": 4,
   "id": "999e11bf-71e8-416a-ae07-72069f23b0cb",
   "metadata": {},
   "outputs": [],
   "source": [
    "import tensorflow_datasets as tfds"
   ]
  },
  {
   "cell_type": "code",
   "execution_count": 5,
   "id": "e2d70a4e-bad7-41ff-95b1-f7b74eeaa07b",
   "metadata": {
    "scrolled": true,
    "tags": []
   },
   "outputs": [],
   "source": [
    "(ds_train, ds_test), ds_info = tfds.load(\n",
    "                                    'mnist',\n",
    "                                    split=['train', 'test'],\n",
    "                                    shuffle_files=True,\n",
    "                                    as_supervised=True,\n",
    "                                    with_info=True,\n",
    "                                )"
   ]
  },
  {
   "cell_type": "code",
   "execution_count": 7,
   "id": "d95d9737-7349-4fc8-b3c9-207b31fb6a36",
   "metadata": {},
   "outputs": [],
   "source": [
    "n_nodes_hl1 = 500\n",
    "n_nodes_hl2 = 500\n",
    "n_nodes_hl3 = 500\n",
    "\n",
    "n_classes = 10\n",
    "batch_size = 128"
   ]
  },
  {
   "cell_type": "code",
   "execution_count": 8,
   "id": "cb71cf3c-44dc-452b-ba44-4fd3b8b305ac",
   "metadata": {},
   "outputs": [],
   "source": [
    "def normalize_img(image, label):\n",
    "    # Normalizes images: uint8 -> float32\n",
    "    return tf.cast(image, tf.float32) / 255., label"
   ]
  },
  {
   "cell_type": "code",
   "execution_count": 9,
   "id": "c8e1a628-c6e7-45b6-b181-d818370ee7bf",
   "metadata": {},
   "outputs": [],
   "source": [
    "ds_train = ds_train.map(normalize_img, num_parallel_calls=tf.data.AUTOTUNE)\n",
    "ds_train = ds_train.cache()\n",
    "ds_train = ds_train.shuffle(ds_info.splits['train'].num_examples)\n",
    "ds_train = ds_train.batch(batch_size)\n",
    "ds_train = ds_train.prefetch(tf.data.AUTOTUNE)"
   ]
  },
  {
   "cell_type": "code",
   "execution_count": 10,
   "id": "fa44b3f8-c6c9-4980-acc2-d53509403d5b",
   "metadata": {},
   "outputs": [],
   "source": [
    "ds_test = ds_test.map(\n",
    "    normalize_img, num_parallel_calls=tf.data.AUTOTUNE)\n",
    "ds_test = ds_test.batch(batch_size)\n",
    "ds_test = ds_test.cache()\n",
    "ds_test = ds_test.prefetch(tf.data.AUTOTUNE)"
   ]
  },
  {
   "cell_type": "markdown",
   "id": "d9c9da4c-812f-41e2-bfe6-1eb3ca052897",
   "metadata": {},
   "source": [
    "* Categorical entropy -> For one-hot encoded labels\n",
    "* Sparse categorical entroy -> For numerical labels\n",
    "* `from_logits=True` is used when we don't use a softmax activation function in the output layer. "
   ]
  },
  {
   "cell_type": "code",
   "execution_count": 12,
   "id": "be9386bc-5980-4533-a022-0d20ec682ad8",
   "metadata": {},
   "outputs": [
    {
     "name": "stdout",
     "output_type": "stream",
     "text": [
      "Epoch 1/6\n",
      "469/469 [==============================] - 6s 4ms/step - loss: 0.3612 - sparse_categorical_accuracy: 0.9002 - val_loss: 0.1861 - val_sparse_categorical_accuracy: 0.9468\n",
      "Epoch 2/6\n",
      "469/469 [==============================] - 1s 3ms/step - loss: 0.1627 - sparse_categorical_accuracy: 0.9539 - val_loss: 0.1330 - val_sparse_categorical_accuracy: 0.9608\n",
      "Epoch 3/6\n",
      "469/469 [==============================] - 1s 3ms/step - loss: 0.1157 - sparse_categorical_accuracy: 0.9668 - val_loss: 0.1071 - val_sparse_categorical_accuracy: 0.9684\n",
      "Epoch 4/6\n",
      "469/469 [==============================] - 1s 3ms/step - loss: 0.0890 - sparse_categorical_accuracy: 0.9742 - val_loss: 0.0903 - val_sparse_categorical_accuracy: 0.9744\n",
      "Epoch 5/6\n",
      "469/469 [==============================] - 1s 3ms/step - loss: 0.0723 - sparse_categorical_accuracy: 0.9788 - val_loss: 0.0881 - val_sparse_categorical_accuracy: 0.9736\n",
      "Epoch 6/6\n",
      "469/469 [==============================] - 1s 2ms/step - loss: 0.0595 - sparse_categorical_accuracy: 0.9833 - val_loss: 0.0779 - val_sparse_categorical_accuracy: 0.9755\n"
     ]
    },
    {
     "data": {
      "text/plain": [
       "<keras.callbacks.History at 0x25ca4a6f7f0>"
      ]
     },
     "execution_count": 12,
     "metadata": {},
     "output_type": "execute_result"
    }
   ],
   "source": [
    "model = tf.keras.models.Sequential([\n",
    "  tf.keras.layers.Flatten(input_shape=(28, 28)),\n",
    "  tf.keras.layers.Dense(128, activation='relu'),\n",
    "  tf.keras.layers.Dense(10)\n",
    "])\n",
    "\n",
    "model.compile(\n",
    "    optimizer=tf.keras.optimizers.Adam(0.001),\n",
    "    loss=tf.keras.losses.SparseCategoricalCrossentropy(from_logits=True),\n",
    "    metrics=[tf.keras.metrics.SparseCategoricalAccuracy()],\n",
    ")\n",
    "\n",
    "model.fit(\n",
    "    ds_train,\n",
    "    epochs=6,\n",
    "    validation_data=ds_test,\n",
    ")"
   ]
  },
  {
   "cell_type": "code",
   "execution_count": null,
   "id": "c0613c27-6e86-4342-b849-0f14150b5ad7",
   "metadata": {},
   "outputs": [],
   "source": []
  },
  {
   "cell_type": "code",
   "execution_count": null,
   "id": "e6c0170e-46f2-49d7-9dce-4154b48368ba",
   "metadata": {},
   "outputs": [],
   "source": []
  }
 ],
 "metadata": {
  "kernelspec": {
   "display_name": "Python 3 (ipykernel)",
   "language": "python",
   "name": "python3"
  },
  "language_info": {
   "codemirror_mode": {
    "name": "ipython",
    "version": 3
   },
   "file_extension": ".py",
   "mimetype": "text/x-python",
   "name": "python",
   "nbconvert_exporter": "python",
   "pygments_lexer": "ipython3",
   "version": "3.10.1"
  }
 },
 "nbformat": 4,
 "nbformat_minor": 5
}
