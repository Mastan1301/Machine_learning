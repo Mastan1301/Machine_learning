{
 "cells": [
  {
   "cell_type": "markdown",
   "id": "cc057245-bb3b-4074-9026-55ebc8e05d99",
   "metadata": {},
   "source": [
    "# Convolution Neural networks\n",
    "\n",
    "The state-of-the-art algorithm for computer vision.\n",
    "\n",
    "**The flow:**\n",
    "input -> convolution (generating feature maps) -> pooling (usually max-pooling) -> Fully connected hidden layer -> output\n",
    "\n",
    "1 convolution + 1 pooling = 1 hidden layer\n",
    "\n",
    "* **Convolution:** Choose a rectangular window of pixels and shift the window until the entire image is covered. This is shown in Fig. 1.\n",
    "\n",
    "<figure>\n",
    "    <img src=\"../assets/convolution.png\">\n",
    "    <figcaption align=\"center\">Fig.1: Convolution of an image and generating new feature map.</figcaption>\n",
    "</figure>\n",
    "\n",
    "\n",
    "* **Pooling:** In max-pooling, the output value of the pooling function is the maximum of the values in the window. This is done to reduce the size of the input.\n"
   ]
  },
  {
   "cell_type": "code",
   "execution_count": 1,
   "id": "9da4f168-a684-4008-a024-25e923449bd3",
   "metadata": {},
   "outputs": [],
   "source": [
    "import tensorflow as tf\n",
    "from tensorflow.keras.models import Sequential\n",
    "from tensorflow.keras.layers import Dense, Dropout, Conv2D, MaxPooling2D, Flatten"
   ]
  },
  {
   "cell_type": "code",
   "execution_count": null,
   "id": "68da271f-dc3d-4e7a-9fb7-73789080ff61",
   "metadata": {},
   "outputs": [],
   "source": [
    "mnist = tf.keras.datasets.mnist\n",
    "(x_train, y_train), (x_test, y_test) = mnist.load_data()"
   ]
  },
  {
   "cell_type": "code",
   "execution_count": null,
   "id": "a9c4917e-28f2-4b90-9218-ead5396c3409",
   "metadata": {},
   "outputs": [],
   "source": [
    "x_train = x_train / 255.0\n",
    "x_test = x_test / 255.0"
   ]
  },
  {
   "cell_type": "code",
   "execution_count": 29,
   "id": "618eb097-a1b5-40a4-91b2-67263b38c2c8",
   "metadata": {},
   "outputs": [],
   "source": [
    "x_train = x_train.reshape(x_train.shape[0], x_train[0].shape[0], x_train[0].shape[1], 1)\n",
    "x_test = x_test.reshape(x_test.shape[0], x_test[0].shape[0], x_test[0].shape[1], 1)"
   ]
  },
  {
   "cell_type": "code",
   "execution_count": 30,
   "id": "850d5069-a20b-4bac-be71-70d82b4a8850",
   "metadata": {},
   "outputs": [],
   "source": [
    "model = Sequential()\n",
    "model.add(Conv2D(20, (3, 3), input_shape=(len(x_train[0]), len(x_train[0][0]), 1), activation='relu'))\n",
    "model.add(MaxPooling2D(pool_size=(2, 2)))\n",
    "model.add(Dropout(0.2))\n",
    "\n",
    "model.add(Conv2D(15, (3, 3), activation='relu'))\n",
    "model.add(MaxPooling2D(pool_size=(2, 2)))\n",
    "model.add(Dropout(0.2))\n",
    "\n",
    "# Flatten the input since dense layers take only 1D vector as input\n",
    "model.add(Flatten())\n",
    "# Fully connected layer\n",
    "model.add(Dense(15, activation='relu'))\n",
    "# Output layer\n",
    "model.add(Dense(10))"
   ]
  },
  {
   "cell_type": "code",
   "execution_count": 31,
   "id": "0f02df86-42ee-4784-bfe3-36a6fa323b25",
   "metadata": {},
   "outputs": [
    {
     "name": "stdout",
     "output_type": "stream",
     "text": [
      "Epoch 1/3\n",
      "1875/1875 [==============================] - 23s 12ms/step - loss: 0.3652 - sparse_categorical_accuracy: 0.8816 - val_loss: 0.0956 - val_sparse_categorical_accuracy: 0.9700\n",
      "Epoch 2/3\n",
      "1875/1875 [==============================] - 23s 12ms/step - loss: 0.1204 - sparse_categorical_accuracy: 0.9625 - val_loss: 0.0617 - val_sparse_categorical_accuracy: 0.9801\n",
      "Epoch 3/3\n",
      "1875/1875 [==============================] - 23s 12ms/step - loss: 0.0949 - sparse_categorical_accuracy: 0.9703 - val_loss: 0.0483 - val_sparse_categorical_accuracy: 0.9844\n"
     ]
    },
    {
     "data": {
      "text/plain": [
       "<keras.callbacks.History at 0x1dc7b8550f0>"
      ]
     },
     "execution_count": 31,
     "metadata": {},
     "output_type": "execute_result"
    }
   ],
   "source": [
    "model.compile(\n",
    "    optimizer=tf.keras.optimizers.Adam(0.001),\n",
    "    loss=tf.keras.losses.SparseCategoricalCrossentropy(from_logits=True),\n",
    "    metrics=[tf.keras.metrics.SparseCategoricalAccuracy()],\n",
    ")\n",
    "\n",
    "model.fit(x_train, y_train, epochs=3, validation_data=(x_test, y_test))"
   ]
  },
  {
   "cell_type": "code",
   "execution_count": null,
   "id": "122a263e-f09a-432c-bffe-55cdf6a0edb5",
   "metadata": {},
   "outputs": [],
   "source": []
  }
 ],
 "metadata": {
  "kernelspec": {
   "display_name": "Python 3 (ipykernel)",
   "language": "python",
   "name": "python3"
  },
  "language_info": {
   "codemirror_mode": {
    "name": "ipython",
    "version": 3
   },
   "file_extension": ".py",
   "mimetype": "text/x-python",
   "name": "python",
   "nbconvert_exporter": "python",
   "pygments_lexer": "ipython3",
   "version": "3.10.1"
  }
 },
 "nbformat": 4,
 "nbformat_minor": 5
}
