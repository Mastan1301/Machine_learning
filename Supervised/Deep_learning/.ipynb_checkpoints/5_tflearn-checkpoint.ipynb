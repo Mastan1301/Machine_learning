{
 "cells": [
  {
   "cell_type": "markdown",
   "id": "719d781c-fd75-44b1-b6ce-244bc529df55",
   "metadata": {},
   "source": [
    "# Intro to TFLearn"
   ]
  },
  {
   "cell_type": "code",
   "execution_count": 1,
   "id": "3b196d03-6377-448e-ab90-cea0dea9f0b5",
   "metadata": {},
   "outputs": [
    {
     "name": "stdout",
     "output_type": "stream",
     "text": [
      "WARNING:tensorflow:From C:\\Users\\shaik\\AppData\\Local\\Programs\\Python\\Python310\\lib\\site-packages\\tensorflow\\python\\compat\\v2_compat.py:107: disable_resource_variables (from tensorflow.python.ops.variable_scope) is deprecated and will be removed in a future version.\n",
      "Instructions for updating:\n",
      "non-resource variables are not supported in the long term\n"
     ]
    }
   ],
   "source": [
    "import tflearn\n",
    "from tflearn.layers.conv import conv_2d, max_pool_2d\n",
    "from tflearn.layers.core import input_data, dropout, fully_connected\n",
    "from tflearn.layers.estimator import regression\n",
    "import tflearn.datasets.mnist as mnist"
   ]
  },
  {
   "cell_type": "code",
   "execution_count": 2,
   "id": "8c319d8d-fbf2-44bb-9ed2-25cc6d5a0fe4",
   "metadata": {},
   "outputs": [
    {
     "name": "stdout",
     "output_type": "stream",
     "text": [
      "Extracting mnist/train-images-idx3-ubyte.gz\n",
      "Extracting mnist/train-labels-idx1-ubyte.gz\n",
      "Extracting mnist/t10k-images-idx3-ubyte.gz\n",
      "Extracting mnist/t10k-labels-idx1-ubyte.gz\n"
     ]
    }
   ],
   "source": [
    "x, y, test_x, test_y = mnist.load_data(one_hot=True)"
   ]
  },
  {
   "cell_type": "code",
   "execution_count": 3,
   "id": "caef9eff-cfa9-4300-af67-37e692dd0793",
   "metadata": {},
   "outputs": [],
   "source": [
    "x = x.reshape([-1, 28, 28, 1])\n",
    "test_x = test_x.reshape([-1, 28, 28, 1])"
   ]
  },
  {
   "cell_type": "code",
   "execution_count": 4,
   "id": "b06c9250-a646-4abb-ae15-264ce0699754",
   "metadata": {},
   "outputs": [
    {
     "name": "stdout",
     "output_type": "stream",
     "text": [
      "WARNING:tensorflow:From C:\\Users\\shaik\\AppData\\Local\\Programs\\Python\\Python310\\lib\\site-packages\\tflearn\\initializations.py:110: calling UniformUnitScaling.__init__ (from tensorflow.python.ops.init_ops) with dtype is deprecated and will be removed in a future version.\n",
      "Instructions for updating:\n",
      "Call initializer instance with the dtype argument instead of passing it to the constructor\n",
      "WARNING:tensorflow:From C:\\Users\\shaik\\AppData\\Local\\Programs\\Python\\Python310\\lib\\site-packages\\tensorflow\\python\\util\\deprecation.py:561: UniformUnitScaling.__init__ (from tensorflow.python.ops.init_ops) is deprecated and will be removed in a future version.\n",
      "Instructions for updating:\n",
      "Use tf.initializers.variance_scaling instead with distribution=uniform to get equivalent behavior.\n",
      "WARNING:tensorflow:From C:\\Users\\shaik\\AppData\\Local\\Programs\\Python\\Python310\\lib\\site-packages\\tflearn\\initializations.py:164: calling TruncatedNormal.__init__ (from tensorflow.python.ops.init_ops) with dtype is deprecated and will be removed in a future version.\n",
      "Instructions for updating:\n",
      "Call initializer instance with the dtype argument instead of passing it to the constructor\n",
      "WARNING:tensorflow:From C:\\Users\\shaik\\AppData\\Local\\Programs\\Python\\Python310\\lib\\site-packages\\tensorflow\\python\\util\\dispatch.py:1082: calling dropout (from tensorflow.python.ops.nn_ops) with keep_prob is deprecated and will be removed in a future version.\n",
      "Instructions for updating:\n",
      "Please use `rate` instead of `keep_prob`. Rate should be set to `rate = 1 - keep_prob`.\n"
     ]
    }
   ],
   "source": [
    "network = input_data(shape=[None, 28, 28, 1], name='input')\n",
    "network = conv_2d(network, 32, 2, activation='relu')\n",
    "network = max_pool_2d(network, 2)\n",
    "network = conv_2d(network, 32, 2, activation='relu')\n",
    "network = max_pool_2d(network, 2)\n",
    "\n",
    "network = fully_connected(network, 32, activation='relu')\n",
    "network = dropout(network, 0.8)\n",
    "\n",
    "network = fully_connected(network, 10, activation='softmax')\n",
    "\n",
    "network = regression(network, \n",
    "                   optimizer='adam', \n",
    "                   learning_rate=0.01,\n",
    "                   loss='categorical_crossentropy',\n",
    "                   name='target',\n",
    "                    )"
   ]
  },
  {
   "cell_type": "code",
   "execution_count": 5,
   "id": "d0508415-7856-44e6-bfe7-5e01d4ae8b66",
   "metadata": {},
   "outputs": [
    {
     "name": "stdout",
     "output_type": "stream",
     "text": [
      "Training Step: 2579  | total loss: \u001b[1m\u001b[32m0.07119\u001b[0m\u001b[0m | time: 37.081s\n",
      "| Adam | epoch: 003 | loss: 0.07119 - acc: 0.9765 -- iter: 54976/55000\n",
      "Training Step: 2580  | total loss: \u001b[1m\u001b[32m0.06715\u001b[0m\u001b[0m | time: 38.648s\n",
      "| Adam | epoch: 003 | loss: 0.06715 - acc: 0.9773 | val_loss: 0.07445 - val_acc: 0.9800 -- iter: 55000/55000\n",
      "--\n"
     ]
    }
   ],
   "source": [
    "model = tflearn.DNN(network)\n",
    "model.fit({'input' : x}, \n",
    "          {'target' : y}, \n",
    "          n_epoch=3,\n",
    "          validation_set=({'input' : test_x}, {'target' : test_y}),\n",
    "          snapshot_step=100,\n",
    "          show_metric=True,\n",
    "          run_id='mnist',\n",
    "         )\n"
   ]
  },
  {
   "cell_type": "code",
   "execution_count": 6,
   "id": "7ec186a9-7858-4dea-bd02-e58893fa6603",
   "metadata": {},
   "outputs": [
    {
     "name": "stdout",
     "output_type": "stream",
     "text": [
      "INFO:tensorflow:C:\\Users\\shaik\\Python\\Machine_learning\\Supervised\\Deep_learning\\tflearncnn.model is not in all_model_checkpoint_paths. Manually adding it.\n",
      "INFO:tensorflow:C:\\Users\\shaik\\Python\\Machine_learning\\Supervised\\Deep_learning\\tflearncnn.model.data-00000-of-00001\n",
      "INFO:tensorflow:700\n",
      "INFO:tensorflow:C:\\Users\\shaik\\Python\\Machine_learning\\Supervised\\Deep_learning\\tflearncnn.model.index\n",
      "INFO:tensorflow:700\n",
      "INFO:tensorflow:C:\\Users\\shaik\\Python\\Machine_learning\\Supervised\\Deep_learning\\tflearncnn.model.meta\n",
      "INFO:tensorflow:800\n"
     ]
    }
   ],
   "source": [
    "model.save('../data/tflearncnn.model')"
   ]
  }
 ],
 "metadata": {
  "kernelspec": {
   "display_name": "Python 3 (ipykernel)",
   "language": "python",
   "name": "python3"
  },
  "language_info": {
   "codemirror_mode": {
    "name": "ipython",
    "version": 3
   },
   "file_extension": ".py",
   "mimetype": "text/x-python",
   "name": "python",
   "nbconvert_exporter": "python",
   "pygments_lexer": "ipython3",
   "version": "3.10.1"
  }
 },
 "nbformat": 4,
 "nbformat_minor": 5
}
