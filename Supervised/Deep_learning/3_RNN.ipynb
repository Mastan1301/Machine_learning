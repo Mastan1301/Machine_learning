{
 "cells": [
  {
   "cell_type": "markdown",
   "id": "f2668847-cfa7-4ba6-bd06-627bb8780827",
   "metadata": {},
   "source": [
    "# Recurrent Neural networks\n",
    "\n",
    "If order in the input matters, then we use RNN, for eg: in NLP, time series, etc. It's basic unit is LSTM (long short term memory) cell.\n",
    "\n",
    "<figure>\n",
    "    <img src=\"../assets/rnn.png\">\n",
    "    <figcaption align=\"center\">Fig.1: Basic RNN representation where the output of the previous cell is the input of the present cell. This is where the order of the input comes into play. Here $A$ is the activation function. $X_i$'s are the features. $O_i$'s are the outputs.</figcaption>\n",
    "</figure>\n",
    "\n",
    "<figure>\n",
    "    <img src=\"../assets/lstm_cell.png\">\n",
    "    <figcaption align=\"center\">Fig.2: LSTM cell.</figcaption>\n",
    "</figure>"
   ]
  },
  {
   "cell_type": "code",
   "execution_count": 6,
   "id": "243ccd2b-cde3-45fa-b3ca-48378d8e119f",
   "metadata": {},
   "outputs": [],
   "source": [
    "import tensorflow as tf\n",
    "from tensorflow.keras.models import Sequential\n",
    "from tensorflow.keras.layers import Dense, Dropout, LSTM"
   ]
  },
  {
   "cell_type": "code",
   "execution_count": 3,
   "id": "f7e92597-3141-471b-961c-e355e9548f91",
   "metadata": {},
   "outputs": [
    {
     "name": "stdout",
     "output_type": "stream",
     "text": [
      "Downloading data from https://storage.googleapis.com/tensorflow/tf-keras-datasets/mnist.npz\n",
      "11490434/11490434 [==============================] - 22s 2us/step\n"
     ]
    }
   ],
   "source": [
    "mnist = tf.keras.datasets.mnist\n",
    "(x_train, y_train), (x_test, y_test) = mnist.load_data()\n",
    "\n",
    "x_train = x_train / 255.0\n",
    "x_test = x_test / 255.0"
   ]
  },
  {
   "cell_type": "code",
   "execution_count": 4,
   "id": "2626c1c7-65e2-4232-90c6-c926c499cd1f",
   "metadata": {},
   "outputs": [
    {
     "name": "stdout",
     "output_type": "stream",
     "text": [
      "(60000, 28, 28)\n",
      "(28, 28)\n"
     ]
    }
   ],
   "source": [
    "print(x_train.shape)\n",
    "print(x_train[0].shape)"
   ]
  },
  {
   "cell_type": "code",
   "execution_count": 9,
   "id": "88282cde-1d07-42ee-942c-c3b902d072c2",
   "metadata": {},
   "outputs": [],
   "source": [
    "model = Sequential()\n",
    "# Set return_sequences to true to pass the output to the next recurrent layer.\n",
    "model.add(LSTM(20, input_shape=(x_train.shape[1:]), activation='relu', return_sequences=True))\n",
    "model.add(Dropout(0.2))\n",
    "\n",
    "model.add(LSTM(20, activation='relu'))\n",
    "model.add(Dropout(0.2))\n",
    "\n",
    "model.add(Dense(15, activation='relu'))\n",
    "model.add(Dropout(0.2))\n",
    "\n",
    "model.add(Dense(10, activation='softmax'))"
   ]
  },
  {
   "cell_type": "code",
   "execution_count": 10,
   "id": "61bbd777-35d5-46be-8fe9-a1a5692cd37d",
   "metadata": {},
   "outputs": [
    {
     "name": "stdout",
     "output_type": "stream",
     "text": [
      "Epoch 1/3\n",
      "1875/1875 [==============================] - 49s 24ms/step - loss: 1.2656 - accuracy: 0.5521 - val_loss: 0.5007 - val_accuracy: 0.8501\n",
      "Epoch 2/3\n",
      "1875/1875 [==============================] - 47s 25ms/step - loss: 0.6103 - accuracy: 0.8050 - val_loss: 0.3302 - val_accuracy: 0.8975\n",
      "Epoch 3/3\n",
      "1875/1875 [==============================] - 47s 25ms/step - loss: 0.4398 - accuracy: 0.8696 - val_loss: 0.2160 - val_accuracy: 0.9411\n"
     ]
    },
    {
     "data": {
      "text/plain": [
       "<keras.callbacks.History at 0x2939bd32d40>"
      ]
     },
     "execution_count": 10,
     "metadata": {},
     "output_type": "execute_result"
    }
   ],
   "source": [
    "opt = tf.keras.optimizers.Adam(learning_rate=0.001, decay=1e-6)\n",
    "\n",
    "model.compile(\n",
    "    loss='sparse_categorical_crossentropy', \n",
    "    optimizer=opt,\n",
    "    metrics=['accuracy']\n",
    ")\n",
    "\n",
    "model.fit(x_train, y_train, epochs=3, validation_data=(x_test, y_test))"
   ]
  },
  {
   "cell_type": "markdown",
   "id": "6271ca97-5df2-4a72-98d1-5ebd14d138bd",
   "metadata": {},
   "source": [
    "This is a significant improvement in accuracy compared to the simple multi-layered perceptron."
   ]
  },
  {
   "cell_type": "code",
   "execution_count": null,
   "id": "c4294a18-2eff-4252-a880-d15b4baaeaba",
   "metadata": {},
   "outputs": [],
   "source": []
  }
 ],
 "metadata": {
  "kernelspec": {
   "display_name": "Python 3 (ipykernel)",
   "language": "python",
   "name": "python3"
  },
  "language_info": {
   "codemirror_mode": {
    "name": "ipython",
    "version": 3
   },
   "file_extension": ".py",
   "mimetype": "text/x-python",
   "name": "python",
   "nbconvert_exporter": "python",
   "pygments_lexer": "ipython3",
   "version": "3.10.1"
  }
 },
 "nbformat": 4,
 "nbformat_minor": 5
}
