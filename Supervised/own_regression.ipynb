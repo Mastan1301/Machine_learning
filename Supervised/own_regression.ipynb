{
 "cells": [
  {
   "cell_type": "markdown",
   "metadata": {},
   "source": [
    "# Linear Regression algorithm from scratch\n",
    "\n",
    "$$ y = mx + b $$\n",
    "* Best fit slope $m$ is given by,\n",
    "$$ m = \\frac{\\overline{x}\\overline{y} - \\overline{xy}}{(\\overline{x})^2 - \\overline{x^2}}$$\n",
    "\n",
    "* Intercept $b$ is given by,\n",
    "$$ b = \\overline{y} - m \\overline{x}"
   ]
  },
  {
   "cell_type": "code",
   "execution_count": 12,
   "metadata": {},
   "outputs": [],
   "source": [
    "from statistics import mean\n",
    "import numpy as np\n",
    "import matplotlib.pyplot as plt\n",
    "from matplotlib import style \n",
    "import random\n",
    "\n",
    "style.use('fivethirtyeight')"
   ]
  },
  {
   "cell_type": "code",
   "execution_count": 5,
   "metadata": {},
   "outputs": [],
   "source": [
    "xs = np.array([1, 2, 3, 4, 5, 6], dtype=np.float64)\n",
    "ys = np.array([5, 4, 6, 5, 6, 7], dtype=np.float64)"
   ]
  },
  {
   "cell_type": "code",
   "execution_count": 6,
   "metadata": {},
   "outputs": [],
   "source": [
    "def best_fit_slope(xs, ys):\n",
    "    if(mean(xs) ** 2 - mean(xs ** 2) == 0):\n",
    "        return 1e6\n",
    "\n",
    "    m = (mean(xs) * mean(ys) - mean(xs * ys)) / (mean(xs) ** 2 - mean(xs ** 2))\n",
    "    return m\n",
    "\n",
    "def best_intercept(xs, ys, m):\n",
    "    b = mean(ys) - m * mean(xs)\n",
    "    return b"
   ]
  },
  {
   "cell_type": "code",
   "execution_count": 7,
   "metadata": {},
   "outputs": [],
   "source": [
    "m = best_fit_slope(xs, ys)\n",
    "b = best_intercept(xs, ys, m)\n",
    "y_hat = m * xs + b"
   ]
  },
  {
   "cell_type": "markdown",
   "metadata": {},
   "source": [
    "## Plotting"
   ]
  },
  {
   "cell_type": "code",
   "execution_count": 8,
   "metadata": {},
   "outputs": [
    {
     "data": {
      "image/png": "[encoded data removed]",
      "text/plain": [
       "<Figure size 432x288 with 1 Axes>"
      ]
     },
     "metadata": {
      "needs_background": "light"
     },
     "output_type": "display_data"
    }
   ],
   "source": [
    "plt.figure()\n",
    "plt.scatter(xs, ys, label='Actual data', color='r')\n",
    "plt.plot(xs, y_hat, label='Regression data', color='g')\n",
    "plt.legend()\n",
    "plt.xlabel('x')\n",
    "plt.ylabel('y')\n",
    "plt.show()\n"
   ]
  },
  {
   "cell_type": "code",
   "execution_count": 9,
   "metadata": {},
   "outputs": [
    {
     "name": "stdout",
     "output_type": "stream",
     "text": [
      "7.428571428571429\n"
     ]
    }
   ],
   "source": [
    "## Prediction\n",
    "x_val = 8\n",
    "predict_y = m * x_val + b\n",
    "print(predict_y)"
   ]
  },
  {
   "cell_type": "markdown",
   "metadata": {},
   "source": [
    "## Measure of line fitting\n",
    "\n",
    "One of the metrics to measure how good a line fits the data is the coefficient of determination, $r^2$ which is given by\n",
    "$$ r^2 = 1 - \\frac{\\sum_{i=0}^{n-1}(y_i - \\hat{y_i}) ^ 2}{\\sum_{i=0}^{n-1}(y_i - \\overline{y}) ^ 2} $$\n",
    "\n"
   ]
  },
  {
   "cell_type": "code",
   "execution_count": 10,
   "metadata": {},
   "outputs": [],
   "source": [
    "def squared_error(ys_original, y_hat):\n",
    "    return sum((y_hat - ys_original) ** 2)\n",
    "\n",
    "def coefficient_of_determination(ys_original, y_hat):\n",
    "    y_mean_line = [mean(ys_original) for y in ys_original]\n",
    "    squared_error_regr = squared_error(ys_original, y_hat)\n",
    "    squared_error_mean = squared_error(ys_original, y_mean_line)\n",
    "    return 1 - squared_error_regr / squared_error_mean"
   ]
  },
  {
   "cell_type": "code",
   "execution_count": 11,
   "metadata": {},
   "outputs": [
    {
     "name": "stdout",
     "output_type": "stream",
     "text": [
      "0.5844155844155845\n"
     ]
    }
   ],
   "source": [
    "r_squared = coefficient_of_determination(ys, y_hat)\n",
    "print(r_squared)"
   ]
  },
  {
   "cell_type": "markdown",
   "metadata": {},
   "source": [
    "## Testing assumptions"
   ]
  },
  {
   "cell_type": "code",
   "execution_count": 13,
   "metadata": {},
   "outputs": [],
   "source": [
    "def create_dataset(dataset_len, variance, step=2, correlation=False):\n",
    "    val = 1\n",
    "    ys = []\n",
    "    for i in range(dataset_len):\n",
    "        y = val + random.randrange(-variance, variance)\n",
    "        ys.append(y)\n",
    "        if correlation and correlation == 'pos':\n",
    "            val += step\n",
    "        elif correlation and correlation == 'neg':\n",
    "            val -= step\n",
    "    \n",
    "    xs = [i for i in range(len(ys))]\n",
    "        \n",
    "    return np.array(xs, dtype=np.float64), np.array(ys, dtype=np.float64)"
   ]
  },
  {
   "cell_type": "code",
   "execution_count": null,
   "metadata": {},
   "outputs": [],
   "source": [
    "xs, ys = create_dataset(40, 40, 2, correlation='pos')"
   ]
  }
 ],
 "metadata": {
  "kernelspec": {
   "display_name": "Python 3.10.1 64-bit",
   "language": "python",
   "name": "python3"
  },
  "language_info": {
   "codemirror_mode": {
    "name": "ipython",
    "version": 3
   },
   "file_extension": ".py",
   "mimetype": "text/x-python",
   "name": "python",
   "nbconvert_exporter": "python",
   "pygments_lexer": "ipython3",
   "version": "3.10.1"
  },
  "orig_nbformat": 4,
  "vscode": {
   "interpreter": {
    "hash": "d0227f3bc9acf1572fe986539cd0dd26f4075a0aabf76fb330a7078e31855c3e"
   }
  }
 },
 "nbformat": 4,
 "nbformat_minor": 2
}
